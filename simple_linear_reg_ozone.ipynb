{
  "nbformat": 4,
  "nbformat_minor": 0,
  "metadata": {
    "kernelspec": {
      "display_name": "Python 3",
      "language": "python",
      "name": "python3"
    },
    "language_info": {
      "codemirror_mode": {
        "name": "ipython",
        "version": 3
      },
      "file_extension": ".py",
      "mimetype": "text/x-python",
      "name": "python",
      "nbconvert_exporter": "python",
      "pygments_lexer": "ipython3",
      "version": "3.7.6"
    },
    "colab": {
      "name": "simple_linear_reg_ozone.ipynb",
      "provenance": [],
      "include_colab_link": true
    }
  },
  "cells": [
    {
      "cell_type": "markdown",
      "metadata": {
        "id": "view-in-github",
        "colab_type": "text"
      },
      "source": [
        "<a href=\"https://colab.research.google.com/github/CarolleGoda/linear_regressions/blob/master/simple_linear_reg_ozone.ipynb\" target=\"_parent\"><img src=\"https://colab.research.google.com/assets/colab-badge.svg\" alt=\"Open In Colab\"/></a>"
      ]
    },
    {
      "cell_type": "markdown",
      "metadata": {
        "id": "LndQaGDPA0kt"
      },
      "source": [
        "## Programmer une regression lineaire simple.\n",
        "## Dataset:Ozone\n",
        "## Projet: Prédire le pic d'ozone en fonction de la température à midi"
      ]
    },
    {
      "cell_type": "code",
      "metadata": {
        "colab": {
          "base_uri": "https://localhost:8080/"
        },
        "id": "0dl4_CZ8A0k8",
        "outputId": "3befc880-90d7-4bbe-f6e0-3fca9241467f"
      },
      "source": [
        "import numpy as np\n",
        "import pandas as pd\n",
        "import seaborn as sns\n",
        "import matplotlib.pyplot as plt\n",
        "import statsmodels.api as sm\n",
        "import statsmodels.formula.api as smf"
      ],
      "execution_count": 1,
      "outputs": [
        {
          "output_type": "stream",
          "text": [
            "/usr/local/lib/python3.7/dist-packages/statsmodels/tools/_testing.py:19: FutureWarning: pandas.util.testing is deprecated. Use the functions in the public API at pandas.testing instead.\n",
            "  import pandas.util.testing as tm\n"
          ],
          "name": "stderr"
        }
      ]
    },
    {
      "cell_type": "markdown",
      "metadata": {
        "id": "OUaC8wIpCxPq"
      },
      "source": [
        "## This is the link to the dataset\n",
        "## https://s3-eu-west-1.amazonaws.com/static.oc-static.com/prod/courses/files/parcours-data-analyst/Cours_realisez_des_modelisations_performantes/NOUVEAU/Dataset_ozone.txt"
      ]
    },
    {
      "cell_type": "code",
      "metadata": {
        "colab": {
          "base_uri": "https://localhost:8080/",
          "height": 204
        },
        "id": "EzgrTzzRA0k_",
        "outputId": "999be720-51c5-466a-9acc-f249f8ebd19c"
      },
      "source": [
        "# Chargement du dataset\n",
        "ozone = pd.read_csv('https://s3-eu-west-1.amazonaws.com/static.oc-static.com/prod/courses/files/parcours-data-analyst/Cours_realisez_des_modelisations_performantes/NOUVEAU/Dataset_ozone.txt', sep=';', decimal=',')\n",
        "ozone.head()"
      ],
      "execution_count": 4,
      "outputs": [
        {
          "output_type": "execute_result",
          "data": {
            "text/html": [
              "<div>\n",
              "<style scoped>\n",
              "    .dataframe tbody tr th:only-of-type {\n",
              "        vertical-align: middle;\n",
              "    }\n",
              "\n",
              "    .dataframe tbody tr th {\n",
              "        vertical-align: top;\n",
              "    }\n",
              "\n",
              "    .dataframe thead th {\n",
              "        text-align: right;\n",
              "    }\n",
              "</style>\n",
              "<table border=\"1\" class=\"dataframe\">\n",
              "  <thead>\n",
              "    <tr style=\"text-align: right;\">\n",
              "      <th></th>\n",
              "      <th>obs</th>\n",
              "      <th>maxO3</th>\n",
              "      <th>T9</th>\n",
              "      <th>T12</th>\n",
              "      <th>T15</th>\n",
              "      <th>Ne9</th>\n",
              "      <th>Ne12</th>\n",
              "      <th>Ne15</th>\n",
              "      <th>Vx9</th>\n",
              "      <th>Vx12</th>\n",
              "      <th>Vx15</th>\n",
              "      <th>maxO3v</th>\n",
              "      <th>vent</th>\n",
              "      <th>pluie</th>\n",
              "    </tr>\n",
              "  </thead>\n",
              "  <tbody>\n",
              "    <tr>\n",
              "      <th>0</th>\n",
              "      <td>601</td>\n",
              "      <td>87</td>\n",
              "      <td>15.6</td>\n",
              "      <td>18.5</td>\n",
              "      <td>18.4</td>\n",
              "      <td>4</td>\n",
              "      <td>4</td>\n",
              "      <td>8</td>\n",
              "      <td>0.6946</td>\n",
              "      <td>-1.7101</td>\n",
              "      <td>-0.6946</td>\n",
              "      <td>84</td>\n",
              "      <td>Nord</td>\n",
              "      <td>Sec</td>\n",
              "    </tr>\n",
              "    <tr>\n",
              "      <th>1</th>\n",
              "      <td>602</td>\n",
              "      <td>82</td>\n",
              "      <td>17.0</td>\n",
              "      <td>18.4</td>\n",
              "      <td>17.7</td>\n",
              "      <td>5</td>\n",
              "      <td>5</td>\n",
              "      <td>7</td>\n",
              "      <td>-4.3301</td>\n",
              "      <td>-4.0000</td>\n",
              "      <td>-3.0000</td>\n",
              "      <td>87</td>\n",
              "      <td>Nord</td>\n",
              "      <td>Sec</td>\n",
              "    </tr>\n",
              "    <tr>\n",
              "      <th>2</th>\n",
              "      <td>603</td>\n",
              "      <td>92</td>\n",
              "      <td>15.3</td>\n",
              "      <td>17.6</td>\n",
              "      <td>19.5</td>\n",
              "      <td>2</td>\n",
              "      <td>5</td>\n",
              "      <td>4</td>\n",
              "      <td>2.9544</td>\n",
              "      <td>1.8794</td>\n",
              "      <td>0.5209</td>\n",
              "      <td>82</td>\n",
              "      <td>Est</td>\n",
              "      <td>Sec</td>\n",
              "    </tr>\n",
              "    <tr>\n",
              "      <th>3</th>\n",
              "      <td>604</td>\n",
              "      <td>114</td>\n",
              "      <td>16.2</td>\n",
              "      <td>19.7</td>\n",
              "      <td>22.5</td>\n",
              "      <td>1</td>\n",
              "      <td>1</td>\n",
              "      <td>0</td>\n",
              "      <td>0.9848</td>\n",
              "      <td>0.3473</td>\n",
              "      <td>-0.1736</td>\n",
              "      <td>92</td>\n",
              "      <td>Nord</td>\n",
              "      <td>Sec</td>\n",
              "    </tr>\n",
              "    <tr>\n",
              "      <th>4</th>\n",
              "      <td>605</td>\n",
              "      <td>94</td>\n",
              "      <td>17.4</td>\n",
              "      <td>20.5</td>\n",
              "      <td>20.4</td>\n",
              "      <td>8</td>\n",
              "      <td>8</td>\n",
              "      <td>7</td>\n",
              "      <td>-0.5000</td>\n",
              "      <td>-2.9544</td>\n",
              "      <td>-4.3301</td>\n",
              "      <td>114</td>\n",
              "      <td>Ouest</td>\n",
              "      <td>Sec</td>\n",
              "    </tr>\n",
              "  </tbody>\n",
              "</table>\n",
              "</div>"
            ],
            "text/plain": [
              "   obs  maxO3    T9   T12   T15  ...    Vx12    Vx15  maxO3v   vent  pluie\n",
              "0  601     87  15.6  18.5  18.4  ... -1.7101 -0.6946      84   Nord    Sec\n",
              "1  602     82  17.0  18.4  17.7  ... -4.0000 -3.0000      87   Nord    Sec\n",
              "2  603     92  15.3  17.6  19.5  ...  1.8794  0.5209      82    Est    Sec\n",
              "3  604    114  16.2  19.7  22.5  ...  0.3473 -0.1736      92   Nord    Sec\n",
              "4  605     94  17.4  20.5  20.4  ... -2.9544 -4.3301     114  Ouest    Sec\n",
              "\n",
              "[5 rows x 14 columns]"
            ]
          },
          "metadata": {
            "tags": []
          },
          "execution_count": 4
        }
      ]
    },
    {
      "cell_type": "code",
      "metadata": {
        "colab": {
          "base_uri": "https://localhost:8080/",
          "height": 285
        },
        "id": "iRl_MhXDA0lC",
        "outputId": "63514ce8-dee6-43c4-f1f8-c28b840da891"
      },
      "source": [
        "#Nuage de points\n",
        "sns.set()\n",
        "\n",
        "ax = sns.scatterplot(x=\"T12\", y=\"maxO3\", data=ozone)\n",
        "ax.set(xlabel='Température 12h', ylabel='Teneur max Ozone')\n",
        "ax.xaxis.set_major_locator(plt.MaxNLocator(5))\n"
      ],
      "execution_count": 5,
      "outputs": [
        {
          "output_type": "display_data",
          "data": {
            "image/png": "[encoded data removed]",
            "text/plain": [
              "<Figure size 432x288 with 1 Axes>"
            ]
          },
          "metadata": {
            "tags": []
          }
        }
      ]
    },
    {
      "cell_type": "markdown",
      "metadata": {
        "id": "aeFN8uCaA0lD"
      },
      "source": [
        "## D'après le nuage de points, Il existe une corrélation linéaire entre nos variables.\n",
        "## Effectuons une regression simple"
      ]
    },
    {
      "cell_type": "code",
      "metadata": {
        "id": "ybnw727dA0lF"
      },
      "source": [
        ""
      ],
      "execution_count": null,
      "outputs": []
    },
    {
      "cell_type": "code",
      "metadata": {
        "colab": {
          "base_uri": "https://localhost:8080/",
          "height": 444
        },
        "id": "7wZ2tA7xA0lF",
        "outputId": "a7de5562-a15d-44fc-a0a4-851459b73c2c"
      },
      "source": [
        "reg_simp = smf.ols('maxO3 ~ T12', data=ozone).fit()\n",
        "reg_simp.summary()"
      ],
      "execution_count": 6,
      "outputs": [
        {
          "output_type": "execute_result",
          "data": {
            "text/html": [
              "<table class=\"simpletable\">\n",
              "<caption>OLS Regression Results</caption>\n",
              "<tr>\n",
              "  <th>Dep. Variable:</th>          <td>maxO3</td>      <th>  R-squared:         </th> <td>   0.615</td>\n",
              "</tr>\n",
              "<tr>\n",
              "  <th>Model:</th>                   <td>OLS</td>       <th>  Adj. R-squared:    </th> <td>   0.612</td>\n",
              "</tr>\n",
              "<tr>\n",
              "  <th>Method:</th>             <td>Least Squares</td>  <th>  F-statistic:       </th> <td>   175.8</td>\n",
              "</tr>\n",
              "<tr>\n",
              "  <th>Date:</th>             <td>Mon, 17 May 2021</td> <th>  Prob (F-statistic):</th> <td>1.51e-24</td>\n",
              "</tr>\n",
              "<tr>\n",
              "  <th>Time:</th>                 <td>11:19:19</td>     <th>  Log-Likelihood:    </th> <td> -478.91</td>\n",
              "</tr>\n",
              "<tr>\n",
              "  <th>No. Observations:</th>      <td>   112</td>      <th>  AIC:               </th> <td>   961.8</td>\n",
              "</tr>\n",
              "<tr>\n",
              "  <th>Df Residuals:</th>          <td>   110</td>      <th>  BIC:               </th> <td>   967.3</td>\n",
              "</tr>\n",
              "<tr>\n",
              "  <th>Df Model:</th>              <td>     1</td>      <th>                     </th>     <td> </td>   \n",
              "</tr>\n",
              "<tr>\n",
              "  <th>Covariance Type:</th>      <td>nonrobust</td>    <th>                     </th>     <td> </td>   \n",
              "</tr>\n",
              "</table>\n",
              "<table class=\"simpletable\">\n",
              "<tr>\n",
              "      <td></td>         <th>coef</th>     <th>std err</th>      <th>t</th>      <th>P>|t|</th>  <th>[0.025</th>    <th>0.975]</th>  \n",
              "</tr>\n",
              "<tr>\n",
              "  <th>Intercept</th> <td>  -27.4196</td> <td>    9.033</td> <td>   -3.035</td> <td> 0.003</td> <td>  -45.322</td> <td>   -9.517</td>\n",
              "</tr>\n",
              "<tr>\n",
              "  <th>T12</th>       <td>    5.4687</td> <td>    0.412</td> <td>   13.258</td> <td> 0.000</td> <td>    4.651</td> <td>    6.286</td>\n",
              "</tr>\n",
              "</table>\n",
              "<table class=\"simpletable\">\n",
              "<tr>\n",
              "  <th>Omnibus:</th>       <td> 1.154</td> <th>  Durbin-Watson:     </th> <td>   1.101</td>\n",
              "</tr>\n",
              "<tr>\n",
              "  <th>Prob(Omnibus):</th> <td> 0.562</td> <th>  Jarque-Bera (JB):  </th> <td>   1.242</td>\n",
              "</tr>\n",
              "<tr>\n",
              "  <th>Skew:</th>          <td> 0.196</td> <th>  Prob(JB):          </th> <td>   0.537</td>\n",
              "</tr>\n",
              "<tr>\n",
              "  <th>Kurtosis:</th>      <td> 2.664</td> <th>  Cond. No.          </th> <td>    119.</td>\n",
              "</tr>\n",
              "</table><br/><br/>Warnings:<br/>[1] Standard Errors assume that the covariance matrix of the errors is correctly specified."
            ],
            "text/plain": [
              "<class 'statsmodels.iolib.summary.Summary'>\n",
              "\"\"\"\n",
              "                            OLS Regression Results                            \n",
              "==============================================================================\n",
              "Dep. Variable:                  maxO3   R-squared:                       0.615\n",
              "Model:                            OLS   Adj. R-squared:                  0.612\n",
              "Method:                 Least Squares   F-statistic:                     175.8\n",
              "Date:                Mon, 17 May 2021   Prob (F-statistic):           1.51e-24\n",
              "Time:                        11:19:19   Log-Likelihood:                -478.91\n",
              "No. Observations:                 112   AIC:                             961.8\n",
              "Df Residuals:                     110   BIC:                             967.3\n",
              "Df Model:                           1                                         \n",
              "Covariance Type:            nonrobust                                         \n",
              "==============================================================================\n",
              "                 coef    std err          t      P>|t|      [0.025      0.975]\n",
              "------------------------------------------------------------------------------\n",
              "Intercept    -27.4196      9.033     -3.035      0.003     -45.322      -9.517\n",
              "T12            5.4687      0.412     13.258      0.000       4.651       6.286\n",
              "==============================================================================\n",
              "Omnibus:                        1.154   Durbin-Watson:                   1.101\n",
              "Prob(Omnibus):                  0.562   Jarque-Bera (JB):                1.242\n",
              "Skew:                           0.196   Prob(JB):                        0.537\n",
              "Kurtosis:                       2.664   Cond. No.                         119.\n",
              "==============================================================================\n",
              "\n",
              "Warnings:\n",
              "[1] Standard Errors assume that the covariance matrix of the errors is correctly specified.\n",
              "\"\"\""
            ]
          },
          "metadata": {
            "tags": []
          },
          "execution_count": 6
        }
      ]
    },
    {
      "cell_type": "markdown",
      "metadata": {
        "id": "kPbgTVBOA0lG"
      },
      "source": [
        ""
      ]
    },
    {
      "cell_type": "markdown",
      "metadata": {
        "id": "ZMW_J407A0lH"
      },
      "source": [
        "## Traçons la droite de regression"
      ]
    },
    {
      "cell_type": "code",
      "metadata": {
        "id": "qeDpnFS_A0lI",
        "outputId": "295d8c0b-9324-41b4-940e-580019bb7473"
      },
      "source": [
        "ax = sns.lmplot(x=\"T12\", y=\"maxO3\", data=ozone, ci=None, line_kws={'color':'red'})\n",
        "ax.set(xlabel='Température 12h', ylabel='Teneur max Ozone')"
      ],
      "execution_count": null,
      "outputs": [
        {
          "output_type": "execute_result",
          "data": {
            "text/plain": [
              "<seaborn.axisgrid.FacetGrid at 0xf7429c0488>"
            ]
          },
          "metadata": {
            "tags": []
          },
          "execution_count": 11
        },
        {
          "output_type": "display_data",
          "data": {
            "image/png": "[encoded data removed]",
            "text/plain": [
              "<Figure size 360x360 with 1 Axes>"
            ]
          },
          "metadata": {
            "tags": []
          }
        }
      ]
    },
    {
      "cell_type": "markdown",
      "metadata": {
        "id": "BvIrA3L5A0lJ"
      },
      "source": [
        "## Valeurs ajustées et residus\n"
      ]
    },
    {
      "cell_type": "markdown",
      "metadata": {
        "id": "vpdYZmTbA0lL"
      },
      "source": [
        "## Les residus du modèle\n"
      ]
    },
    {
      "cell_type": "code",
      "metadata": {
        "colab": {
          "base_uri": "https://localhost:8080/"
        },
        "id": "cwb-4HkgA0lM",
        "outputId": "e72c0625-f62b-4d5b-dd65-edf09c745980"
      },
      "source": [
        "ozone['residu_s'] = reg_simp.resid\n",
        "print(reg_simp.resid)"
      ],
      "execution_count": 8,
      "outputs": [
        {
          "output_type": "stream",
          "text": [
            "0      13.248966\n",
            "1       8.795834\n",
            "2      23.170782\n",
            "3      33.686544\n",
            "4       9.311596\n",
            "         ...    \n",
            "107    14.623914\n",
            "108    -9.329009\n",
            "109     0.639884\n",
            "110     2.139675\n",
            "111    -4.297903\n",
            "Length: 112, dtype: float64\n"
          ],
          "name": "stdout"
        }
      ]
    },
    {
      "cell_type": "code",
      "metadata": {
        "colab": {
          "base_uri": "https://localhost:8080/",
          "height": 301
        },
        "id": "zw7hJC7PA0lN",
        "outputId": "82343a4a-b56a-4d08-dd5f-d680c812d96c"
      },
      "source": [
        "plt.hist(ozone['residu_s'], density=True)\n",
        "plt.xlabel('Résidus')\n",
        "plt.title('Histogramme des résidus')\n",
        "plt.show()"
      ],
      "execution_count": 9,
      "outputs": [
        {
          "output_type": "display_data",
          "data": {
            "image/png": "[encoded data removed]",
            "text/plain": [
              "<Figure size 432x288 with 1 Axes>"
            ]
          },
          "metadata": {
            "tags": []
          }
        }
      ]
    },
    {
      "cell_type": "markdown",
      "metadata": {
        "id": "bYmNOYrYA0lO"
      },
      "source": [
        "### Prévoyons maintenant la concentration en ozone d'une journée. Sachant que la température prévue de cette journée est de 19 °C, on peut utiliser notre modèle de régression à des fins de prévision !"
      ]
    },
    {
      "cell_type": "code",
      "metadata": {
        "colab": {
          "base_uri": "https://localhost:8080/"
        },
        "id": "klXEfjPrA0lO",
        "outputId": "dfb09b8d-cbfb-4d91-9cef-f42b8fb8a38b"
      },
      "source": [
        "a_prevoir = pd.DataFrame({'T12':[19]})\n",
        "\n",
        "maxO3_prev = reg_simp.predict(a_prevoir)\n",
        "print(round(maxO3_prev[0], 2))"
      ],
      "execution_count": 11,
      "outputs": [
        {
          "output_type": "stream",
          "text": [
            "76.49\n"
          ],
          "name": "stdout"
        }
      ]
    },
    {
      "cell_type": "code",
      "metadata": {
        "id": "SAxP5KnBA0lP"
      },
      "source": [
        ""
      ],
      "execution_count": null,
      "outputs": []
    },
    {
      "cell_type": "code",
      "metadata": {
        "id": "ioMLIMN8A0lQ"
      },
      "source": [
        ""
      ],
      "execution_count": null,
      "outputs": []
    },
    {
      "cell_type": "code",
      "metadata": {
        "id": "U66yQM1wA0lQ"
      },
      "source": [
        ""
      ],
      "execution_count": null,
      "outputs": []
    }
  ]
}